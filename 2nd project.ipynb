{
 "cells": [
  {
   "cell_type": "code",
   "execution_count": 35,
   "id": "f8dfc1cb",
   "metadata": {},
   "outputs": [
    {
     "name": "stdout",
     "output_type": "stream",
     "text": [
      "first namesamah\n",
      "last nameRaheem\n",
      "Raheem samah\n"
     ]
    }
   ],
   "source": [
    "#Question no.01\n",
    "Firstname = str(input(\"first name\"))\n",
    "Lastname = str(input(\"last name\"))\n",
    "print(Lastname, Firstname)"
   ]
  },
  {
   "cell_type": "code",
   "execution_count": 37,
   "id": "2ec28934",
   "metadata": {},
   "outputs": [
    {
     "name": "stdout",
     "output_type": "stream",
     "text": [
      "please enter a number: 5\n",
      "615\n"
     ]
    }
   ],
   "source": [
    "#Question no.02\n",
    "num=int(input('please enter a number: '))\n",
    "num=num+num*11+num*111\n",
    "print(num)"
   ]
  },
  {
   "cell_type": "code",
   "execution_count": 39,
   "id": "74c2260a",
   "metadata": {},
   "outputs": [
    {
     "name": "stdout",
     "output_type": "stream",
     "text": [
      "enter a number: 7\n",
      "number is odd\n"
     ]
    }
   ],
   "source": [
    "#question no.03\n",
    "num = int(input(\"enter a number: \"))\n",
    "if (num % 2) == 0:\n",
    "    print('number is even')\n",
    "else:\n",
    "    print('number is odd')"
   ]
  },
  {
   "cell_type": "code",
   "execution_count": 44,
   "id": "3caf9e83",
   "metadata": {},
   "outputs": [
    {
     "name": "stdout",
     "output_type": "stream",
     "text": [
      "2002,2009,2016,2023,2037,2044,2051,2058,2072,2079,2086,2093,2107,2114,2121,2128,2142,2149,2156,2163,2177,2184,2191,2198,2212,2219,2226,2233,2247,2254,2261,2268,2282,2289,2296,2303,2317,2324,2331,2338,2352,2359,2366,2373,2387,2394,2401,2408,2422,2429,2436,2443,2457,2464,2471,2478,2492,2499,2506,2513,2527,2534,2541,2548,2562,2569,2576,2583,2597,2604,2611,2618,2632,2639,2646,2653,2667,2674,2681,2688,2702,2709,2716,2723,2737,2744,2751,2758,2772,2779,2786,2793,2807,2814,2821,2828,2842,2849,2856,2863,2877,2884,2891,2898,2912,2919,2926,2933,2947,2954,2961,2968,2982,2989,2996,3003,3017,3024,3031,3038,3052,3059,3066,3073,3087,3094,3101,3108,3122,3129,3136,3143,3157,3164,3171,3178,3192,3199,"
     ]
    }
   ],
   "source": [
    "#question no.04\n",
    "for i in range (2000,3201):\n",
    "    if i%7 == 0 and i%5!=0:\n",
    "        print (i,end=\",\")"
   ]
  },
  {
   "cell_type": "code",
   "execution_count": 4,
   "id": "bff9adec",
   "metadata": {},
   "outputs": [
    {
     "ename": "SyntaxError",
     "evalue": "invalid syntax (<ipython-input-4-abc41054041d>, line 6)",
     "output_type": "error",
     "traceback": [
      "\u001b[1;36m  File \u001b[1;32m\"<ipython-input-4-abc41054041d>\"\u001b[1;36m, line \u001b[1;32m6\u001b[0m\n\u001b[1;33m    elif:\u001b[0m\n\u001b[1;37m    ^\u001b[0m\n\u001b[1;31mSyntaxError\u001b[0m\u001b[1;31m:\u001b[0m invalid syntax\n"
     ]
    }
   ],
   "source": [
    "#question no.05\n",
    "\n",
    "num=int(input(\"enter a number: \"))\n",
    "if num < 0:\n",
    "    print (\"that's an incorrect factorial number, pls enter a postive number: \")\n",
    "    elif:\n",
    "        num == 0:\n",
    "            print(str(\"1\"))\n",
    "            else: \n",
    "                f=1\n",
    "                for i in range(f,num+1):\n",
    "                    f=f*i\n",
    "                print(\"the factorial of\",num,\"is\",f)"
   ]
  },
  {
   "cell_type": "code",
   "execution_count": 5,
   "id": "b5c82a00",
   "metadata": {},
   "outputs": [
    {
     "name": "stdout",
     "output_type": "stream",
     "text": [
      "hello world\n",
      "hlowrd\n"
     ]
    }
   ],
   "source": [
    "#question no.06\n",
    "str1 = input()\n",
    "str2=\"\"\n",
    "for i in range(len(str1)):\n",
    "    if i%2==0:\n",
    "        str2+=str1[i]\n",
    "print(str2)"
   ]
  },
  {
   "cell_type": "code",
   "execution_count": 6,
   "id": "8550e607",
   "metadata": {},
   "outputs": [
    {
     "ename": "SyntaxError",
     "evalue": "invalid syntax (<ipython-input-6-7326d1bc0078>, line 5)",
     "output_type": "error",
     "traceback": [
      "\u001b[1;36m  File \u001b[1;32m\"<ipython-input-6-7326d1bc0078>\"\u001b[1;36m, line \u001b[1;32m5\u001b[0m\n\u001b[1;33m    else if price >200 and price <500:\u001b[0m\n\u001b[1;37m    ^\u001b[0m\n\u001b[1;31mSyntaxError\u001b[0m\u001b[1;31m:\u001b[0m invalid syntax\n"
     ]
    }
   ],
   "source": [
    "#Question no.07\n",
    "price=int(input(\"the price is: \"))\n",
    "if price >= 500:\n",
    "    price= price-(price*0.5)\n",
    "    else if price >200 and price <500:\n",
    "        price=price-(price*0.3)\n",
    "        else price=price-(price*0.1)\n",
    "print(\"your discount is: \", price,\"Thanks for shopping with us\")"
   ]
  },
  {
   "cell_type": "code",
   "execution_count": null,
   "id": "31629640",
   "metadata": {},
   "outputs": [],
   "source": []
  }
 ],
 "metadata": {
  "kernelspec": {
   "display_name": "Python 3",
   "language": "python",
   "name": "python3"
  },
  "language_info": {
   "codemirror_mode": {
    "name": "ipython",
    "version": 3
   },
   "file_extension": ".py",
   "mimetype": "text/x-python",
   "name": "python",
   "nbconvert_exporter": "python",
   "pygments_lexer": "ipython3",
   "version": "3.8.8"
  }
 },
 "nbformat": 4,
 "nbformat_minor": 5
}
